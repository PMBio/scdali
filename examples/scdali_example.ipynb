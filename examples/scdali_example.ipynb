{
 "cells": [
  {
   "cell_type": "markdown",
   "metadata": {},
   "source": [
    "# Using scDALI - Example on synthetic data"
   ]
  },
  {
   "cell_type": "markdown",
   "metadata": {},
   "source": [
    "In this example we will generate artificial data, test for dependencies and approximate the DALI generative model to estimate the allelic rates for each cell."
   ]
  },
  {
   "cell_type": "code",
   "execution_count": 1,
   "metadata": {},
   "outputs": [],
   "source": [
    "import sys\n",
    "sys.path.insert(0, '..')"
   ]
  },
  {
   "cell_type": "code",
   "execution_count": 2,
   "metadata": {},
   "outputs": [],
   "source": [
    "import numpy as np\n",
    "import matplotlib.pyplot as plt"
   ]
  },
  {
   "cell_type": "code",
   "execution_count": 3,
   "metadata": {},
   "outputs": [],
   "source": [
    "from scdali import run_tests, run_interpolation\n",
    "from scdali.utils import simulate\n",
    "from scdali.utils.stats import apply_fdr_bh, compute_quantile_diff"
   ]
  },
  {
   "cell_type": "markdown",
   "metadata": {},
   "source": [
    "## Data simulation"
   ]
  },
  {
   "cell_type": "markdown",
   "metadata": {},
   "source": [
    "We start by simulating a cell state matrix. For this toy example we assume a one-dimensional cell state. The latent rates will be sampled from a Gaussian process with RBF kernel matrix."
   ]
  },
  {
   "cell_type": "code",
   "execution_count": 4,
   "metadata": {},
   "outputs": [],
   "source": [
    "n_cells = 500\n",
    "n_regions = 25"
   ]
  },
  {
   "cell_type": "code",
   "execution_count": 5,
   "metadata": {},
   "outputs": [],
   "source": [
    "cell_state = np.linspace(0, 1, n_cells)\n",
    "K = simulate.create_rbf_kernel(cell_state, lengthscale=.8) + 1e-9 * np.eye(n_cells)"
   ]
  },
  {
   "cell_type": "markdown",
   "metadata": {},
   "source": [
    "Simulate total counts from a Poisson model."
   ]
  },
  {
   "cell_type": "code",
   "execution_count": 6,
   "metadata": {},
   "outputs": [],
   "source": [
    "D = np.random.default_rng(42).poisson(lam=5, size=(cell_state.shape[0], n_regions)) + 1"
   ]
  },
  {
   "cell_type": "markdown",
   "metadata": {},
   "source": [
    "We now draw from the scDALI model, a Gaussian process model with Beta-Binomial likelihood. "
   ]
  },
  {
   "cell_type": "code",
   "execution_count": 7,
   "metadata": {},
   "outputs": [],
   "source": [
    "sim = simulate.simulate_beta_binomial(K=K, D=D, sigma2=0.4, theta=1, mu=.01, seed=123)\n",
    "A = sim['A']"
   ]
  },
  {
   "cell_type": "markdown",
   "metadata": {},
   "source": [
    "Let's look at an example."
   ]
  },
  {
   "cell_type": "code",
   "execution_count": 8,
   "metadata": {},
   "outputs": [
    {
     "data": {
      "image/png": "[encoded data removed]",
      "text/plain": [
       "<Figure size 432x288 with 1 Axes>"
      ]
     },
     "metadata": {
      "needs_background": "light"
     },
     "output_type": "display_data"
    }
   ],
   "source": [
    "fig, ax = plt.subplots()\n",
    "ax.plot(cell_state, sim['beta_mean'][:, 0], label='Latent rate', c='r', linewidth=3)\n",
    "ax.scatter(cell_state, sim['binomial_mean'][:, 0], label='Binomial rate', s=3)\n",
    "ax.scatter(cell_state, A[:, 0] / D[:, 0], label='Empirical rate', c='k', s=3)\n",
    "ax.set(xlabel='Cell state', ylabel='Allelic activitiy')\n",
    "ax.legend(loc='center left', bbox_to_anchor=(1, 0.5));"
   ]
  },
  {
   "cell_type": "markdown",
   "metadata": {},
   "source": [
    "## Testing"
   ]
  },
  {
   "cell_type": "markdown",
   "metadata": {},
   "source": [
    "To test for allele-specific effects, scDALI offers a high-level interface. Implemented are tests for\n",
    "- heterogeneous imblance across the cell state space (scDALI-Het)\n",
    "- homogeneous or constant imbalance (scDALI-Hom) \n",
    "- any kind of imbalance (scDALI-Joint)"
   ]
  },
  {
   "cell_type": "code",
   "execution_count": 9,
   "metadata": {},
   "outputs": [
    {
     "name": "stdout",
     "output_type": "stream",
     "text": [
      "[scdali] Processing 25 regions on 1 core(s) ... \n"
     ]
    },
    {
     "name": "stderr",
     "output_type": "stream",
     "text": [
      "100%|█████████████████████████████████████████████████████████████████████████████████| 25/25 [00:00<00:00, 56.96it/s]\n"
     ]
    }
   ],
   "source": [
    "pvals_het = run_tests(A=A, D=D, cell_state=cell_state, model='scDALI-Het')['pvalues']"
   ]
  },
  {
   "cell_type": "code",
   "execution_count": 10,
   "metadata": {},
   "outputs": [
    {
     "name": "stdout",
     "output_type": "stream",
     "text": [
      "[scdali] Processing 25 regions on 1 core(s) ... \n"
     ]
    },
    {
     "name": "stderr",
     "output_type": "stream",
     "text": [
      "  0%|                                                                                          | 0/25 [00:00<?, ?it/s]/Users/tobi/miniconda3/envs/scdali/lib/python3.8/site-packages/chiscore/_optimal.py:166: RuntimeWarning: divide by zero encountered in true_divide\n",
      "  temp = (pmin_q - temp1) / (1 - r_all)\n",
      "100%|█████████████████████████████████████████████████████████████████████████████████| 25/25 [00:29<00:00,  1.18s/it]\n"
     ]
    }
   ],
   "source": [
    "res_joint = run_tests(A=A, D=D, cell_state=cell_state, model='scDALI-Joint', base_rate=.5)"
   ]
  },
  {
   "cell_type": "code",
   "execution_count": 11,
   "metadata": {},
   "outputs": [
    {
     "name": "stdout",
     "output_type": "stream",
     "text": [
      "[scdali] Processing 25 regions on 1 core(s) ... \n"
     ]
    },
    {
     "name": "stderr",
     "output_type": "stream",
     "text": [
      "100%|█████████████████████████████████████████████████████████████████████████████████| 25/25 [00:01<00:00, 13.18it/s]\n"
     ]
    }
   ],
   "source": [
    "pvals_hom = run_tests(A=A, D=D, model='scDALI-Hom', base_rate=.5)['pvalues']"
   ]
  },
  {
   "cell_type": "code",
   "execution_count": 12,
   "metadata": {},
   "outputs": [
    {
     "data": {
      "image/png": "[encoded data removed]",
      "text/plain": [
       "<Figure size 432x288 with 2 Axes>"
      ]
     },
     "metadata": {
      "needs_background": "light"
     },
     "output_type": "display_data"
    }
   ],
   "source": [
    "fig, axes = plt.subplots(1, 2)\n",
    "ax = axes[0]\n",
    "p = ax.scatter(-np.log10(res_joint['pvalues']), -np.log10(pvals_het), vmin=0, vmax=1, s=25)\n",
    "ax.set(ylabel=r'$-\\log_{10} P_{het}$', xlabel=r'$-\\log_{10} P_{joint}$', title='scDALI-Joint vs. scDALI-Het')\n",
    "\n",
    "ax = axes[1]\n",
    "p = ax.scatter(-np.log10(res_joint['pvalues']), -np.log10(pvals_hom), vmin=0, vmax=1, s=25)\n",
    "ax.set(ylabel=r'$-\\log_{10} P_{hom}$', xlabel=r'$-\\log_{10} P_{joint}$', title='scDALI-Joint vs. scDALI-Hom')\n",
    "\n",
    "plt.tight_layout()"
   ]
  },
  {
   "cell_type": "markdown",
   "metadata": {},
   "source": [
    "Apply Benjamini-Hochberg to control FDR."
   ]
  },
  {
   "cell_type": "code",
   "execution_count": 13,
   "metadata": {},
   "outputs": [],
   "source": [
    "pvals_corrected = apply_fdr_bh(pvals_het)"
   ]
  },
  {
   "cell_type": "markdown",
   "metadata": {},
   "source": [
    "## Estimation and visualization of allelic rates"
   ]
  },
  {
   "cell_type": "markdown",
   "metadata": {},
   "source": [
    "Having identified a set of significantly variable regions, we can estimate the latent rates using a Gaussian process (GP) model. scDALI offers a wrapper around gpflow to train a sparse GP model. The estimated latent rates can be used for visualization and effect size computation."
   ]
  },
  {
   "cell_type": "code",
   "execution_count": 14,
   "metadata": {},
   "outputs": [
    {
     "data": {
      "text/plain": [
       "array([ 2,  3,  5,  6, 12, 15, 16, 17, 18, 20, 22, 23, 24])"
      ]
     },
     "execution_count": 14,
     "metadata": {},
     "output_type": "execute_result"
    }
   ],
   "source": [
    "significant = np.where(pvals_corrected < .1)[0]\n",
    "significant"
   ]
  },
  {
   "cell_type": "code",
   "execution_count": 15,
   "metadata": {},
   "outputs": [
    {
     "name": "stdout",
     "output_type": "stream",
     "text": [
      "[scdali] Processing 13 regions on 1 core(s) ... \n"
     ]
    },
    {
     "name": "stderr",
     "output_type": "stream",
     "text": [
      "  0%|                                                                                          | 0/13 [00:00<?, ?it/s]2022-01-06 14:16:06.423780: I tensorflow/core/platform/cpu_feature_guard.cc:151] This TensorFlow binary is optimized with oneAPI Deep Neural Network Library (oneDNN) to use the following CPU instructions in performance-critical operations:  AVX2 FMA\n",
      "To enable them in other operations, rebuild TensorFlow with the appropriate compiler flags.\n",
      "2022-01-06 14:16:06.455017: W tensorflow/python/util/util.cc:368] Sets are not currently considered sequences, but this may change in the future, so consider avoiding using them.\n",
      "100%|█████████████████████████████████████████████████████████████████████████████████| 13/13 [00:26<00:00,  2.01s/it]\n"
     ]
    }
   ],
   "source": [
    "gp_results = run_interpolation(\n",
    "    A=A[:, significant],\n",
    "    D=D[:, significant],\n",
    "    cell_state=cell_state,\n",
    ")"
   ]
  },
  {
   "cell_type": "markdown",
   "metadata": {},
   "source": [
    "Let's again look at an example."
   ]
  },
  {
   "cell_type": "code",
   "execution_count": 16,
   "metadata": {},
   "outputs": [],
   "source": [
    "i = 0\n",
    "region = significant[i]"
   ]
  },
  {
   "cell_type": "code",
   "execution_count": 17,
   "metadata": {},
   "outputs": [
    {
     "data": {
      "image/png": "[encoded data removed]",
      "text/plain": [
       "<Figure size 432x288 with 1 Axes>"
      ]
     },
     "metadata": {
      "needs_background": "light"
     },
     "output_type": "display_data"
    }
   ],
   "source": [
    "mu = gp_results['posterior_mean'][:, i]\n",
    "sd = np.sqrt(gp_results['posterior_var'][:, i])\n",
    "\n",
    "fig, ax = plt.subplots()\n",
    "ax.plot(cell_state, sim['beta_mean'][:, region], label='True latent rate', c='r')\n",
    "ax.plot(cell_state, mu, label='Estim. latent rate', c='b')\n",
    "ax.fill_between(cell_state, mu-sd, mu+sd, alpha=.5)\n",
    "ax.set(xlabel='Cell state', ylabel='Allelic activitiy')\n",
    "ax.legend(loc='center left', bbox_to_anchor=(1, 0.5));"
   ]
  },
  {
   "cell_type": "markdown",
   "metadata": {},
   "source": [
    "To determine effect sizes, we compute the difference between the top and bottom quantiles for the estimated latent rates (Qdiff10)"
   ]
  },
  {
   "cell_type": "code",
   "execution_count": 18,
   "metadata": {},
   "outputs": [
    {
     "data": {
      "image/png": "[encoded data removed]",
      "text/plain": [
       "<Figure size 432x288 with 1 Axes>"
      ]
     },
     "metadata": {
      "needs_background": "light"
     },
     "output_type": "display_data"
    }
   ],
   "source": [
    "Qdiff10 = compute_quantile_diff(gp_results['posterior_mean'], .10)\n",
    "\n",
    "fig, ax = plt.subplots()\n",
    "ax.scatter(Qdiff10, -np.log10(pvals_het[significant]))\n",
    "ax.set(xlabel=r'$-\\log_{10} P$', ylabel='Qdiff10', title='Significance vs. effect size');"
   ]
  }
 ],
 "metadata": {
  "kernelspec": {
   "display_name": "Python 3 (ipykernel)",
   "language": "python",
   "name": "python3"
  },
  "language_info": {
   "codemirror_mode": {
    "name": "ipython",
    "version": 3
   },
   "file_extension": ".py",
   "mimetype": "text/x-python",
   "name": "python",
   "nbconvert_exporter": "python",
   "pygments_lexer": "ipython3",
   "version": "3.8.5"
  }
 },
 "nbformat": 4,
 "nbformat_minor": 4
}
