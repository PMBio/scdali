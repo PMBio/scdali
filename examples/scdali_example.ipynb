{
 "cells": [
  {
   "cell_type": "code",
   "execution_count": null,
   "metadata": {},
   "outputs": [],
   "source": [
    "%load_ext autoreload\n",
    "%autoreload 2"
   ]
  },
  {
   "cell_type": "markdown",
   "metadata": {},
   "source": [
    "# Using scDALI - Example on synthetic data"
   ]
  },
  {
   "cell_type": "markdown",
   "metadata": {},
   "source": [
    "In this example we will generate artificial data, test for dependencies and approximate the DALI generative model to estimate the allelic rates for each cell."
   ]
  },
  {
   "cell_type": "code",
   "execution_count": null,
   "metadata": {},
   "outputs": [],
   "source": [
    "import sys\n",
    "sys.path.insert(0, '..')"
   ]
  },
  {
   "cell_type": "code",
   "execution_count": 3,
   "metadata": {},
   "outputs": [],
   "source": [
    "import numpy as np\n",
    "import matplotlib.pyplot as plt"
   ]
  },
  {
   "cell_type": "code",
   "execution_count": 4,
   "metadata": {},
   "outputs": [],
   "source": [
    "from scdali import run_scdali\n",
    "from scdali.utils import simulate\n",
    "from scdali.utils.stats import apply_fdr_bh, compute_quantile_diff"
   ]
  },
  {
   "cell_type": "markdown",
   "metadata": {},
   "source": [
    "## Data simulation"
   ]
  },
  {
   "cell_type": "markdown",
   "metadata": {},
   "source": [
    "We start by simulating a cell state matrix. The cell state definition depends on the application and could be a pseudo-temporal ordering, a clustering of cell types or a lower-dimensional representation of non-allele-specific counts.\n",
    "\n",
    "For this toy example we assume a one-dimensional cell state. The latent rates will be sampled from a Gaussian process with RBF kernel matrix."
   ]
  },
  {
   "cell_type": "code",
   "execution_count": 5,
   "metadata": {},
   "outputs": [],
   "source": [
    "n_cells = 500\n",
    "n_regions = 25"
   ]
  },
  {
   "cell_type": "code",
   "execution_count": 6,
   "metadata": {},
   "outputs": [],
   "source": [
    "cell_state = np.linspace(0, 1, n_cells)\n",
    "K = simulate.create_rbf_kernel(cell_state, lengthscale=.8) + 1e-9 * np.eye(n_cells)"
   ]
  },
  {
   "cell_type": "markdown",
   "metadata": {},
   "source": [
    "Simulate total counts from a Poisson model."
   ]
  },
  {
   "cell_type": "code",
   "execution_count": 7,
   "metadata": {},
   "outputs": [],
   "source": [
    "D = np.random.default_rng(123).poisson(lam=5, size=(cell_state.shape[0], n_regions))"
   ]
  },
  {
   "cell_type": "markdown",
   "metadata": {},
   "source": [
    "We now draw from the scDALI model, a Gaussian process model with Beta-Binomial likelihood. The generative model for each region is as follows:\n",
    "\n",
    "(1) Sample the cell-state dependent allelic rate from a Gaussian process with cell-state kernel $K$: \n",
    "\n",
    "\\begin{equation}\n",
    "g^{-1}(r^{cellstate})\\sim\\mathcal{N}(\\mathbf{1}\\alpha, \\sigma^2_{het}K),\n",
    "\\end{equation}\n",
    "\n",
    "where $g$ is the logit link function and $\\sigma^2_{het}>0$ indicates cell-state-specific (heterogeneous) allelic imbalance.\n",
    "\n",
    "(2) Sample from a Beta distribution with mean $r^{cellstate}$ and overdispersion parameter $\\theta$: \n",
    "    \n",
    "\\begin{equation}\n",
    "r^{binomial}_{i}\\sim \\text{Beta}(r^{cellstate}_i\\theta^{-1}, (1-r^{cellstate}_i)\\theta^{-1}),\n",
    "\\end{equation}\n",
    "\n",
    "(3) Given total counts $d_i$ for cell $i$, sample alternative counts from a binomial model:\n",
    "  \n",
    "\\begin{equation}\n",
    "a_i\\sim\\text{Bin}(d_i, r^{binomial}_i).\n",
    "\\end{equation}\n",
    "\n",
    "As a result, $a_i\\,|\\,d_i, r^{cellstate}_i$ follows a Beta-Binomial distribution which captures extra-binomial variance (overdispersion). Overdispersion is common in practice, as there are usually additional unmodelled technical and biological factors that affect the distribution of allelic rates in each cell."
   ]
  },
  {
   "cell_type": "code",
   "execution_count": 8,
   "metadata": {},
   "outputs": [],
   "source": [
    "sim = simulate.simulate_beta_binomial(K=K, D=D, sigma2=.5, theta=.1, mu=.01, seed=123)\n",
    "A = sim['A']"
   ]
  },
  {
   "cell_type": "markdown",
   "metadata": {},
   "source": [
    "Let's look at an example."
   ]
  },
  {
   "cell_type": "code",
   "execution_count": 9,
   "metadata": {},
   "outputs": [
    {
     "name": "stderr",
     "output_type": "stream",
     "text": [
      "<ipython-input-9-3c111f4ce156>:4: RuntimeWarning: invalid value encountered in true_divide\n",
      "  ax.scatter(cell_state, A[:, 0] / D[:, 0], label='Empirical rate', c='k', s=3)\n"
     ]
    },
    {
     "data": {
      "image/png": "[encoded data removed]",
      "text/plain": [
       "<Figure size 432x288 with 1 Axes>"
      ]
     },
     "metadata": {
      "needs_background": "light"
     },
     "output_type": "display_data"
    }
   ],
   "source": [
    "fig, ax = plt.subplots()\n",
    "ax.plot(cell_state, sim['beta_mean'][:, 0], label='Latent rate', c='r', linewidth=3)\n",
    "ax.scatter(cell_state, sim['binomial_mean'][:, 0], label='Binomial rate', s=3)\n",
    "ax.scatter(cell_state, A[:, 0] / D[:, 0], label='Empirical rate', c='k', s=3)\n",
    "ax.set(xlabel='Cell state', ylabel='Allelic activitiy')\n",
    "ax.legend(loc='center left', bbox_to_anchor=(1, 0.5));"
   ]
  },
  {
   "cell_type": "markdown",
   "metadata": {},
   "source": [
    "## Testing"
   ]
  },
  {
   "cell_type": "markdown",
   "metadata": {},
   "source": [
    "To test for allele-specific effects, scDALI offers a high-level interface. We will start by testing for heterogeneous effects, that is\n",
    "\\begin{equation}\n",
    "\\sigma^2_{het} > 0 \\text{ vs. } \\sigma^2_{het} = 0.\n",
    "\\end{equation}"
   ]
  },
  {
   "cell_type": "code",
   "execution_count": 10,
   "metadata": {},
   "outputs": [
    {
     "name": "stdout",
     "output_type": "stream",
     "text": [
      "[scdali] Processing 25 regions on 1 core(s) ... \n"
     ]
    },
    {
     "name": "stderr",
     "output_type": "stream",
     "text": [
      "100%|██████████| 25/25 [00:00<00:00, 29.27it/s]\n"
     ]
    }
   ],
   "source": [
    "pvals_het = run_scdali(A=A, D=D, cell_state=cell_state, model='scDALI-Het')['pvalues']"
   ]
  },
  {
   "cell_type": "markdown",
   "metadata": {},
   "source": [
    "scDALI also offers a joint test, where for a given base allelic rate $\\alpha$ we can test if there is global allelic imbalance and/or cell-state specific effects. In this case $\\alpha$ is fixed and we introduce another random effect distributed according to $\\mathcal{N}(0, \\sigma^2_{hom}\\mathbf{1}\\mathbf{1}^T)$, such that \n",
    "\n",
    "\\begin{equation}\n",
    "g^{-1}(r^{cellstate})\\sim\\mathcal{N}(\\mathbf{1}\\alpha, \\sigma^2_{total}(\\rho\\mathbf{1}\\mathbf{1}^T + (1-\\rho) K)),\n",
    "\\end{equation}\n",
    "\n",
    "where $\\rho=\\sigma_{hom}/\\sigma_{total}$ is the fraction of allelic variance explained by global effects, $\\sigma^2_{total} = \\sigma^2_{het} + \\sigma^2_{hom}$ and we test $\\sigma^2_{total} > 0$."
   ]
  },
  {
   "cell_type": "code",
   "execution_count": 11,
   "metadata": {},
   "outputs": [
    {
     "name": "stdout",
     "output_type": "stream",
     "text": [
      "[scdali] Processing 25 regions on 1 core(s) ... \n"
     ]
    },
    {
     "name": "stderr",
     "output_type": "stream",
     "text": [
      "  0%|          | 0/25 [00:00<?, ?it/s]/Users/tobi/miniconda3/envs/dali/lib/python3.8/site-packages/chiscore/_optimal.py:166: RuntimeWarning: divide by zero encountered in true_divide\n",
      "  temp = (pmin_q - temp1) / (1 - r_all)\n",
      "100%|██████████| 25/25 [00:16<00:00,  1.51it/s]\n"
     ]
    }
   ],
   "source": [
    "res_joint = run_scdali(A=A, D=D, cell_state=cell_state, model='scDALI-Joint', return_rho=True, base_rate=.5)"
   ]
  },
  {
   "cell_type": "markdown",
   "metadata": {},
   "source": [
    "If we only want to test for pervasive (homogeneous) allelic imbalance, we can use 'scDALI-Hom' (score test) or 'BB-LRT' (likelihood ratio test)."
   ]
  },
  {
   "cell_type": "code",
   "execution_count": 12,
   "metadata": {},
   "outputs": [
    {
     "name": "stdout",
     "output_type": "stream",
     "text": [
      "[scdali] Processing 25 regions on 1 core(s) ... \n"
     ]
    },
    {
     "name": "stderr",
     "output_type": "stream",
     "text": [
      "100%|██████████| 25/25 [00:01<00:00, 13.42it/s]\n"
     ]
    }
   ],
   "source": [
    "pvals_hom = run_scdali(A=A, D=D, model='scDALI-Hom', base_rate=.5)['pvalues']"
   ]
  },
  {
   "cell_type": "code",
   "execution_count": 13,
   "metadata": {},
   "outputs": [
    {
     "data": {
      "image/png": "[encoded data removed]",
      "text/plain": [
       "<Figure size 720x432 with 3 Axes>"
      ]
     },
     "metadata": {
      "needs_background": "light"
     },
     "output_type": "display_data"
    }
   ],
   "source": [
    "fig, axes = plt.subplots(1, 2, figsize=(10, 6))\n",
    "ax = axes[0]\n",
    "p = ax.scatter(-np.log10(res_joint['pvalues']), -np.log10(pvals_het), c=res_joint['rhos'], vmin=0, vmax=1, s=50)\n",
    "ax.set(ylabel=r'$-\\log_{10} P_{het}$', xlabel=r'$-\\log_{10} P_{joint}$', title='Joint vs. cell-state-specific test')\n",
    "\n",
    "ax = axes[1]\n",
    "p = ax.scatter(-np.log10(res_joint['pvalues']), -np.log10(pvals_hom), c=res_joint['rhos'], vmin=0, vmax=1, s=50)\n",
    "ax.set(ylabel=r'$-\\log_{10} P_{hom}$', xlabel=r'$-\\log_{10} P_{joint}$', title='Joint vs. cell-state-specific test')\n",
    "\n",
    "plt.colorbar(p, label=r'$\\rho$', orientation='horizontal', ax=axes, aspect=30);"
   ]
  },
  {
   "cell_type": "markdown",
   "metadata": {},
   "source": [
    "Apply Benjamini-Hochberg to control FDR."
   ]
  },
  {
   "cell_type": "code",
   "execution_count": 14,
   "metadata": {},
   "outputs": [],
   "source": [
    "pvals_corrected = apply_fdr_bh(pvals_het)"
   ]
  },
  {
   "cell_type": "markdown",
   "metadata": {},
   "source": [
    "## Gaussian process downstream analysis"
   ]
  },
  {
   "cell_type": "markdown",
   "metadata": {},
   "source": [
    "Having identified a set of significantly variable regions, we can infer the latent rates using a Gaussian process (GP) model. scDALI offers a wrapper around gpflow to train a sparse GP model. The estimated latent rates can be used for visualization and effect size computation."
   ]
  },
  {
   "cell_type": "code",
   "execution_count": 15,
   "metadata": {},
   "outputs": [
    {
     "data": {
      "text/plain": [
       "array([ 1,  2,  3,  4,  5,  6,  7, 11, 12, 14, 15, 16, 17, 18, 19, 20, 22,\n",
       "       24])"
      ]
     },
     "execution_count": 15,
     "metadata": {},
     "output_type": "execute_result"
    }
   ],
   "source": [
    "significant = np.where(pvals_corrected < .1)[0]\n",
    "significant"
   ]
  },
  {
   "cell_type": "code",
   "execution_count": 16,
   "metadata": {},
   "outputs": [
    {
     "name": "stdout",
     "output_type": "stream",
     "text": [
      "[scdali] Processing 18 regions on 1 core(s) ... \n"
     ]
    },
    {
     "name": "stderr",
     "output_type": "stream",
     "text": [
      "100%|██████████| 18/18 [00:37<00:00,  2.06s/it]\n"
     ]
    }
   ],
   "source": [
    "gp_results = run_scdali(\n",
    "    A=A[:, significant],\n",
    "    D=D[:, significant],\n",
    "    cell_state=cell_state,\n",
    "    model='GP'\n",
    ")"
   ]
  },
  {
   "cell_type": "markdown",
   "metadata": {},
   "source": [
    "Let's again look at an example."
   ]
  },
  {
   "cell_type": "code",
   "execution_count": 17,
   "metadata": {},
   "outputs": [],
   "source": [
    "i = 0\n",
    "region = significant[i]"
   ]
  },
  {
   "cell_type": "code",
   "execution_count": 18,
   "metadata": {},
   "outputs": [
    {
     "data": {
      "image/png": "[encoded data removed]",
      "text/plain": [
       "<Figure size 432x288 with 1 Axes>"
      ]
     },
     "metadata": {
      "needs_background": "light"
     },
     "output_type": "display_data"
    }
   ],
   "source": [
    "mu = gp_results['posterior_mean'][:, i]\n",
    "sd = np.sqrt(gp_results['posterior_var'][:, i])\n",
    "\n",
    "fig, ax = plt.subplots()\n",
    "ax.plot(cell_state, sim['beta_mean'][:, region], label='True latent rate', c='r')\n",
    "ax.plot(cell_state, mu, label='Estim. latent rate', c='b')\n",
    "ax.fill_between(cell_state, mu-sd, mu+sd, alpha=.5)\n",
    "ax.set(xlabel='Cell state', ylabel='Allelic activitiy')\n",
    "ax.legend(loc='center left', bbox_to_anchor=(1, 0.5));"
   ]
  },
  {
   "cell_type": "markdown",
   "metadata": {},
   "source": [
    "To determine effect sizes, we compute the difference between the top and bottom quantiles for the estimated latent rates (Qdiff10)"
   ]
  },
  {
   "cell_type": "code",
   "execution_count": 19,
   "metadata": {},
   "outputs": [
    {
     "data": {
      "image/png": "[encoded data removed]",
      "text/plain": [
       "<Figure size 432x288 with 1 Axes>"
      ]
     },
     "metadata": {
      "needs_background": "light"
     },
     "output_type": "display_data"
    }
   ],
   "source": [
    "Qdiff10 = compute_quantile_diff(gp_results['posterior_mean'], .10)\n",
    "\n",
    "fig, ax = plt.subplots()\n",
    "ax.scatter(Qdiff10, -np.log10(pvals_het[significant]))\n",
    "ax.set(xlabel=r'$-\\log_{10} P$', ylabel='quantile difference', title='Significance vs. effect size');"
   ]
  }
 ],
 "metadata": {
  "kernelspec": {
   "display_name": "Python 3",
   "language": "python",
   "name": "python3"
  },
  "language_info": {
   "codemirror_mode": {
    "name": "ipython",
    "version": 3
   },
   "file_extension": ".py",
   "mimetype": "text/x-python",
   "name": "python",
   "nbconvert_exporter": "python",
   "pygments_lexer": "ipython3",
   "version": "3.8.5"
  }
 },
 "nbformat": 4,
 "nbformat_minor": 4
}
